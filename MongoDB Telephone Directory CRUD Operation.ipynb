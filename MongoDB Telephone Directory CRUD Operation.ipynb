{
 "cells": [
  {
   "cell_type": "code",
   "execution_count": 2,
   "metadata": {},
   "outputs": [],
   "source": [
    "import pymongo\n",
    "myclient = pymongo.MongoClient(\"mongodb://127.0.0.1:27017\")\n",
    "#create database\n",
    "mydb = myclient[\"Telephone_Directory\"]\n",
    "#create collection\n",
    "mycollection = mydb['contact']"
   ]
  },
  {
   "cell_type": "code",
   "execution_count": 7,
   "metadata": {},
   "outputs": [
    {
     "data": {
      "text/plain": [
       "<pymongo.results.InsertManyResult at 0x7fa539e17640>"
      ]
     },
     "execution_count": 7,
     "metadata": {},
     "output_type": "execute_result"
    }
   ],
   "source": [
    "#inserting many data\n",
    "my_info2 = [\n",
    "{\n",
    "    'Name':'Akash',\n",
    "    'Phone number':7392739,\n",
    "    'Place':'Bangalore',\n",
    "    'email':'akash@gmail.com'\n",
    "},\n",
    "{\n",
    "    'Name':'Ben',\n",
    "    'Phone number':28392379,\n",
    "    'Place':'Chennai',\n",
    "    'email':'ben@gmail.com'\n",
    "},\n",
    "{\n",
    "    'Name':'Ajay',\n",
    "    'Phone number':7392390,\n",
    "    'Place':'Coimbatore',\n",
    "    'email':'ajay@gmail.com'\n",
    "},\n",
    "{\n",
    "    'Name':'Cibi',\n",
    "    'Phone number':6493839,\n",
    "    'Place':'Bangalore',\n",
    "    'email':'cibi@gmail.com'\n",
    "},\n",
    "{\n",
    "    'Name':'Dave',\n",
    "    'Phone number':8736940,\n",
    "    'Place':'Delhi',\n",
    "    'email':'dave@gmail.com'\n",
    "},\n",
    "{\n",
    "    'Name':'Edwin',\n",
    "    'Phone number':394892,\n",
    "    'Place':'Mumbai',\n",
    "    'email':'edwin@gmail.com'\n",
    "}\n",
    "]\n",
    "mycollection.insert_many(my_info2)"
   ]
  },
  {
   "cell_type": "code",
   "execution_count": 8,
   "metadata": {},
   "outputs": [
    {
     "data": {
      "text/plain": [
       "<pymongo.results.InsertOneResult at 0x7fa539e17df0>"
      ]
     },
     "execution_count": 8,
     "metadata": {},
     "output_type": "execute_result"
    }
   ],
   "source": [
    "#inserting one data\n",
    "my_info = {\n",
    "    'Name':'Amit',\n",
    "    'Phone number':833917,\n",
    "    'Place':'Bangalore',\n",
    "    'email':'amit@gmail.com'\n",
    "}\n",
    "\n",
    "\n",
    "mycollection.insert_one(my_info)"
   ]
  },
  {
   "cell_type": "code",
   "execution_count": 11,
   "metadata": {},
   "outputs": [
    {
     "name": "stdout",
     "output_type": "stream",
     "text": [
      "{'_id': ObjectId('635cb31498bfc80fc9a3a377'), 'Name': 'Akash', 'Phone number': 7392739, 'Place': 'Bangalore', 'email': 'akash@gmail.com'}\n",
      "{'_id': ObjectId('635cb31498bfc80fc9a3a378'), 'Name': 'Ben', 'Phone number': 28392379, 'Place': 'Chennai', 'email': 'ben@gmail.com'}\n",
      "{'_id': ObjectId('635cb31498bfc80fc9a3a379'), 'Name': 'Ajay', 'Phone number': 7392390, 'Place': 'Coimbatore', 'email': 'ajay@gmail.com'}\n",
      "{'_id': ObjectId('635cb31498bfc80fc9a3a37a'), 'Name': 'Cibi', 'Phone number': 6493839, 'Place': 'Bangalore', 'email': 'cibi@gmail.com'}\n",
      "{'_id': ObjectId('635cb31498bfc80fc9a3a37b'), 'Name': 'Dave', 'Phone number': 8736940, 'Place': 'Delhi', 'email': 'dave@gmail.com'}\n",
      "{'_id': ObjectId('635cb31498bfc80fc9a3a37c'), 'Name': 'Edwin', 'Phone number': 394892, 'Place': 'Mumbai', 'email': 'edwin@gmail.com'}\n",
      "{'_id': ObjectId('635cb3b198bfc80fc9a3a37d'), 'Name': 'Amit', 'Phone number': 833917, 'Place': 'Bangalore', 'email': 'amit@gmail.com'}\n"
     ]
    }
   ],
   "source": [
    "#retrieve data\n",
    "data = mycollection.find()\n",
    "for document in data:\n",
    "    print(document)"
   ]
  },
  {
   "cell_type": "code",
   "execution_count": 12,
   "metadata": {},
   "outputs": [
    {
     "name": "stdout",
     "output_type": "stream",
     "text": [
      "{'_id': ObjectId('635cb31498bfc80fc9a3a377'), 'Name': 'Akash', 'Phone number': 7392739, 'Place': 'Bangalore', 'email': 'akash@gmail.com'}\n",
      "{'_id': ObjectId('635cb31498bfc80fc9a3a37a'), 'Name': 'Cibi', 'Phone number': 6493839, 'Place': 'Bangalore', 'email': 'cibi@gmail.com'}\n",
      "{'_id': ObjectId('635cb3b198bfc80fc9a3a37d'), 'Name': 'Amit', 'Phone number': 833917, 'Place': 'Bangalore', 'email': 'amit@gmail.com'}\n"
     ]
    }
   ],
   "source": [
    "#retrieve specific data with keyword\n",
    "data1 = mycollection.find({'Place':'Bangalore'})\n",
    "for document in data1:\n",
    "    print(document)"
   ]
  },
  {
   "cell_type": "code",
   "execution_count": 13,
   "metadata": {},
   "outputs": [
    {
     "data": {
      "text/plain": [
       "<pymongo.results.UpdateResult at 0x7fa539d9b3a0>"
      ]
     },
     "execution_count": 13,
     "metadata": {},
     "output_type": "execute_result"
    }
   ],
   "source": [
    "#updating data\n",
    "akash = {'Name': 'Akash'}\n",
    "fullname = {'$set':{'Name': 'Akash Balaji'}}\n",
    "mycollection.update_one(akash,fullname)"
   ]
  },
  {
   "cell_type": "code",
   "execution_count": 16,
   "metadata": {},
   "outputs": [
    {
     "data": {
      "text/plain": [
       "<pymongo.results.UpdateResult at 0x7fa539d9bb80>"
      ]
     },
     "execution_count": 16,
     "metadata": {},
     "output_type": "execute_result"
    }
   ],
   "source": [
    "#updating data\n",
    "cbe = {'Place': 'Coimbatore'}\n",
    "cbe_to_madurai = {'$set':{'Place':'Madurai'}}\n",
    "mycollection.update_one(cbe,cbe_to_madurai)"
   ]
  },
  {
   "cell_type": "code",
   "execution_count": 17,
   "metadata": {},
   "outputs": [
    {
     "data": {
      "text/plain": [
       "<pymongo.results.DeleteResult at 0x7fa539d9bbb0>"
      ]
     },
     "execution_count": 17,
     "metadata": {},
     "output_type": "execute_result"
    }
   ],
   "source": [
    "#deleting data\n",
    "mycollection.delete_one({'Name': 'Dave'})"
   ]
  }
 ],
 "metadata": {
  "kernelspec": {
   "display_name": "Python 3.9.12 ('base')",
   "language": "python",
   "name": "python3"
  },
  "language_info": {
   "codemirror_mode": {
    "name": "ipython",
    "version": 3
   },
   "file_extension": ".py",
   "mimetype": "text/x-python",
   "name": "python",
   "nbconvert_exporter": "python",
   "pygments_lexer": "ipython3",
   "version": "3.9.12"
  },
  "orig_nbformat": 4,
  "vscode": {
   "interpreter": {
    "hash": "a9c37716b8879b23c090eb9b1516d49375d91346d5f8509eb6f0652db209ab4a"
   }
  }
 },
 "nbformat": 4,
 "nbformat_minor": 2
}
