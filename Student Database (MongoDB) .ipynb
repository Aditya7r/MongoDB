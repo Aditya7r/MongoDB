{
 "cells": [
  {
   "cell_type": "code",
   "execution_count": null,
   "metadata": {},
   "outputs": [],
   "source": [
    "import pymongo\n",
    "import json\n",
    "from pymongo import MongoClient, InsertOne\n",
    "\n",
    "client = pymongo.MongoClient(\"mongodb://127.0.0.1:27017\")\n",
    "db = client['Student_DB']\n",
    "collection = db['scores']\n",
    "requesting = []\n",
    "\n",
    "with open(r\"/Users/adityaradhakrishnan/Desktop/GUVI Data Science/DW24/Assignment/Task 2/students.json\") as f:\n",
    "    for jsonObj in f:\n",
    "        myDict = json.loads(jsonObj)\n",
    "        requesting.append(InsertOne(myDict))\n",
    "\n",
    "result = collection.bulk_write(requesting)\n",
    "client.close()"
   ]
  }
 ],
 "metadata": {
  "kernelspec": {
   "display_name": "Python 3.9.12 ('base')",
   "language": "python",
   "name": "python3"
  },
  "language_info": {
   "codemirror_mode": {
    "name": "ipython",
    "version": 3
   },
   "file_extension": ".py",
   "mimetype": "text/x-python",
   "name": "python",
   "nbconvert_exporter": "python",
   "pygments_lexer": "ipython3",
   "version": "3.9.12"
  },
  "orig_nbformat": 4,
  "vscode": {
   "interpreter": {
    "hash": "a9c37716b8879b23c090eb9b1516d49375d91346d5f8509eb6f0652db209ab4a"
   }
  }
 },
 "nbformat": 4,
 "nbformat_minor": 2
}
